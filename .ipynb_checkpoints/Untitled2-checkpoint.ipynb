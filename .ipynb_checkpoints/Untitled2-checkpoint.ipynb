{
 "cells": [
  {
   "cell_type": "code",
   "execution_count": 1,
   "id": "b2787a43",
   "metadata": {},
   "outputs": [],
   "source": [
    "animals = {'dogs': [20, 10, 15, 8, 32, 15], 'cats': [3,4,2,8,2,4], 'rabbits': [2, 3, 3], 'fish': [0.3, 0.5, 0.8, 0.3, 1]}"
   ]
  },
  {
   "cell_type": "code",
   "execution_count": 2,
   "id": "0b457ac1",
   "metadata": {},
   "outputs": [
    {
     "ename": "KeyError",
     "evalue": "'rabits'",
     "output_type": "error",
     "traceback": [
      "\u001b[1;31m---------------------------------------------------------------------------\u001b[0m",
      "\u001b[1;31mKeyError\u001b[0m                                  Traceback (most recent call last)",
      "\u001b[1;32m<ipython-input-2-679beeab85ba>\u001b[0m in \u001b[0;36m<module>\u001b[1;34m\u001b[0m\n\u001b[1;32m----> 1\u001b[1;33m \u001b[0manimals\u001b[0m\u001b[1;33m[\u001b[0m\u001b[1;34m\"rabits\"\u001b[0m\u001b[1;33m]\u001b[0m\u001b[1;33m\u001b[0m\u001b[1;33m\u001b[0m\u001b[0m\n\u001b[0m",
      "\u001b[1;31mKeyError\u001b[0m: 'rabits'"
     ]
    }
   ],
   "source": [
    "animals[\"rabits\"]"
   ]
  },
  {
   "cell_type": "code",
   "execution_count": 3,
   "id": "c88dcf79",
   "metadata": {},
   "outputs": [
    {
     "data": {
      "text/plain": [
       "[2, 3, 3]"
      ]
     },
     "execution_count": 3,
     "metadata": {},
     "output_type": "execute_result"
    }
   ],
   "source": [
    "animals['rabbits']"
   ]
  },
  {
   "cell_type": "code",
   "execution_count": 4,
   "id": "f4b7a133",
   "metadata": {},
   "outputs": [],
   "source": [
    "elements = {\"hydrogen\": {\"number\": 1,\n",
    "                         \"weight\": 1.00794,\n",
    "                         \"symbol\": \"H\"},\n",
    "              \"helium\": {\"number\": 2,\n",
    "                         \"weight\": 4.002602,\n",
    "                         \"symbol\": \"He\"}}"
   ]
  },
  {
   "cell_type": "code",
   "execution_count": 5,
   "id": "64aee0eb",
   "metadata": {},
   "outputs": [],
   "source": [
    "helium = elements[\"helium\"]"
   ]
  },
  {
   "cell_type": "code",
   "execution_count": 6,
   "id": "5a874ad2",
   "metadata": {},
   "outputs": [
    {
     "ename": "TypeError",
     "evalue": "'builtin_function_or_method' object is not subscriptable",
     "output_type": "error",
     "traceback": [
      "\u001b[1;31m---------------------------------------------------------------------------\u001b[0m",
      "\u001b[1;31mTypeError\u001b[0m                                 Traceback (most recent call last)",
      "\u001b[1;32m<ipython-input-6-bdf73eac2812>\u001b[0m in \u001b[0;36m<module>\u001b[1;34m\u001b[0m\n\u001b[1;32m----> 1\u001b[1;33m \u001b[0mprint\u001b[0m\u001b[1;33m[\u001b[0m\u001b[1;34m\"helium\"\u001b[0m\u001b[1;33m]\u001b[0m\u001b[1;33m\u001b[0m\u001b[1;33m\u001b[0m\u001b[0m\n\u001b[0m",
      "\u001b[1;31mTypeError\u001b[0m: 'builtin_function_or_method' object is not subscriptable"
     ]
    }
   ],
   "source": [
    "print[\"helium\"]"
   ]
  },
  {
   "cell_type": "code",
   "execution_count": 7,
   "id": "05c5cb21",
   "metadata": {},
   "outputs": [
    {
     "name": "stdout",
     "output_type": "stream",
     "text": [
      "{'number': 2, 'weight': 4.002602, 'symbol': 'He'}\n"
     ]
    }
   ],
   "source": [
    "print(elements[\"helium\"])"
   ]
  },
  {
   "cell_type": "code",
   "execution_count": 8,
   "id": "36d1fd27",
   "metadata": {},
   "outputs": [
    {
     "name": "stdout",
     "output_type": "stream",
     "text": [
      "4.002602\n"
     ]
    }
   ],
   "source": [
    "print(elements[\"helium\"][\"weight\"])"
   ]
  },
  {
   "cell_type": "code",
   "execution_count": 9,
   "id": "0c7408b2",
   "metadata": {},
   "outputs": [],
   "source": [
    "oxygen = {\"number\":8,\"weight\":15.999,\"symbol\":\"O\"}"
   ]
  },
  {
   "cell_type": "code",
   "execution_count": 10,
   "id": "341cbd16",
   "metadata": {},
   "outputs": [],
   "source": [
    "elements[\"oxygen\"]=oxygen"
   ]
  },
  {
   "cell_type": "code",
   "execution_count": 11,
   "id": "3f6d94fb",
   "metadata": {},
   "outputs": [
    {
     "name": "stdout",
     "output_type": "stream",
     "text": [
      "{'hydrogen': {'number': 1, 'weight': 1.00794, 'symbol': 'H'}, 'helium': {'number': 2, 'weight': 4.002602, 'symbol': 'He'}, 'oxygen': {'number': 8, 'weight': 15.999, 'symbol': 'O'}}\n"
     ]
    }
   ],
   "source": [
    "print(elements)"
   ]
  },
  {
   "cell_type": "code",
   "execution_count": 12,
   "id": "3ce362da",
   "metadata": {},
   "outputs": [],
   "source": [
    "student_records = {\n",
    "    'John': {\n",
    "        'age': 20,\n",
    "        'major': 'Computer Science',\n",
    "        'grades': [85, 90, 92]\n",
    "    },\n",
    "    'Emma': {\n",
    "        'age': 19,\n",
    "        'major': 'Mathematics',\n",
    "        'grades': [95, 88, 91]\n",
    "    }\n",
    "}"
   ]
  },
  {
   "cell_type": "code",
   "execution_count": 13,
   "id": "fce6962e",
   "metadata": {},
   "outputs": [],
   "source": [
    "student_records['Alex'] = {\n",
    "    'age': 21,\n",
    "    'major': 'Physics',\n",
    "    'grades': [80, 85, 88]\n",
    "}"
   ]
  },
  {
   "cell_type": "code",
   "execution_count": 14,
   "id": "60a5fc05",
   "metadata": {},
   "outputs": [
    {
     "name": "stdout",
     "output_type": "stream",
     "text": [
      "{'John': {'age': 20, 'major': 'Computer Science', 'grades': [85, 90, 92]}, 'Emma': {'age': 19, 'major': 'Mathematics', 'grades': [95, 88, 91]}, 'Alex': {'age': 21, 'major': 'Physics', 'grades': [80, 85, 88]}}\n"
     ]
    }
   ],
   "source": [
    "print(student_records)"
   ]
  },
  {
   "cell_type": "code",
   "execution_count": 15,
   "id": "05a2789f",
   "metadata": {},
   "outputs": [],
   "source": [
    "student_records['John']['grades'].append(88)"
   ]
  },
  {
   "cell_type": "code",
   "execution_count": 16,
   "id": "4bf34f54",
   "metadata": {},
   "outputs": [
    {
     "name": "stdout",
     "output_type": "stream",
     "text": [
      "{'John': {'age': 20, 'major': 'Computer Science', 'grades': [85, 90, 92, 88]}, 'Emma': {'age': 19, 'major': 'Mathematics', 'grades': [95, 88, 91]}, 'Alex': {'age': 21, 'major': 'Physics', 'grades': [80, 85, 88]}}\n"
     ]
    }
   ],
   "source": [
    "print(student_records)"
   ]
  },
  {
   "cell_type": "code",
   "execution_count": 17,
   "id": "25a20514",
   "metadata": {},
   "outputs": [],
   "source": [
    "elements = {'hydrogen': {'number': 1, 'weight': 1.00794, 'symbol': 'H'},\n",
    "            'helium': {'number': 2, 'weight': 4.002602, 'symbol': 'He'}}"
   ]
  },
  {
   "cell_type": "code",
   "execution_count": 18,
   "id": "663bc45c",
   "metadata": {},
   "outputs": [],
   "source": [
    "elements['hydrogen']['is_noble_gas'] = False"
   ]
  },
  {
   "cell_type": "code",
   "execution_count": 19,
   "id": "5dfcfa0b",
   "metadata": {},
   "outputs": [],
   "source": [
    "elements['helium']['is_noble_gas'] = True"
   ]
  },
  {
   "cell_type": "code",
   "execution_count": 20,
   "id": "0bdf7d10",
   "metadata": {},
   "outputs": [
    {
     "name": "stdout",
     "output_type": "stream",
     "text": [
      "{'hydrogen': {'number': 1, 'weight': 1.00794, 'symbol': 'H', 'is_noble_gas': False}, 'helium': {'number': 2, 'weight': 4.002602, 'symbol': 'He', 'is_noble_gas': True}}\n"
     ]
    }
   ],
   "source": [
    "print(elements)"
   ]
  },
  {
   "cell_type": "code",
   "execution_count": 21,
   "id": "2a329a9d",
   "metadata": {},
   "outputs": [],
   "source": [
    "verse = \"if you can keep your head when all about you are losing theirs and blaming it on you   if you can trust yourself when all men doubt you     but make allowance for their doubting too   if you can wait and not be tired by waiting      or being lied about  don’t deal in lies   or being hated  don’t give way to hating      and yet don’t look too good  nor talk too wise\""
   ]
  },
  {
   "cell_type": "code",
   "execution_count": 22,
   "id": "b520d9d4",
   "metadata": {},
   "outputs": [
    {
     "name": "stdout",
     "output_type": "stream",
     "text": [
      "if you can keep your head when all about you are losing theirs and blaming it on you   if you can trust yourself when all men doubt you     but make allowance for their doubting too   if you can wait and not be tired by waiting      or being lied about  don’t deal in lies   or being hated  don’t give way to hating      and yet don’t look too good  nor talk too wise \n",
      "\n"
     ]
    }
   ],
   "source": [
    "print(verse, \"\\n\")"
   ]
  },
  {
   "cell_type": "code",
   "execution_count": 23,
   "id": "3122b165",
   "metadata": {},
   "outputs": [],
   "source": [
    "verse_list = verse.split()"
   ]
  },
  {
   "cell_type": "code",
   "execution_count": 24,
   "id": "ed803db4",
   "metadata": {},
   "outputs": [
    {
     "name": "stdout",
     "output_type": "stream",
     "text": [
      "['if', 'you', 'can', 'keep', 'your', 'head', 'when', 'all', 'about', 'you', 'are', 'losing', 'theirs', 'and', 'blaming', 'it', 'on', 'you', 'if', 'you', 'can', 'trust', 'yourself', 'when', 'all', 'men', 'doubt', 'you', 'but', 'make', 'allowance', 'for', 'their', 'doubting', 'too', 'if', 'you', 'can', 'wait', 'and', 'not', 'be', 'tired', 'by', 'waiting', 'or', 'being', 'lied', 'about', 'don’t', 'deal', 'in', 'lies', 'or', 'being', 'hated', 'don’t', 'give', 'way', 'to', 'hating', 'and', 'yet', 'don’t', 'look', 'too', 'good', 'nor', 'talk', 'too', 'wise'] \n",
      "\n"
     ]
    }
   ],
   "source": [
    "print(verse_list, '\\n')"
   ]
  },
  {
   "cell_type": "code",
   "execution_count": 25,
   "id": "0f9fa213",
   "metadata": {},
   "outputs": [
    {
     "data": {
      "text/plain": [
       "71"
      ]
     },
     "execution_count": 25,
     "metadata": {},
     "output_type": "execute_result"
    }
   ],
   "source": [
    "len(verse_list)"
   ]
  },
  {
   "cell_type": "code",
   "execution_count": 28,
   "id": "02154880",
   "metadata": {},
   "outputs": [],
   "source": [
    "verse_set = set(verse_list)"
   ]
  },
  {
   "cell_type": "code",
   "execution_count": 29,
   "id": "7712421d",
   "metadata": {},
   "outputs": [
    {
     "ename": "TypeError",
     "evalue": "unsupported operand type(s) for -: 'str' and 'type'",
     "output_type": "error",
     "traceback": [
      "\u001b[1;31m---------------------------------------------------------------------------\u001b[0m",
      "\u001b[1;31mTypeError\u001b[0m                                 Traceback (most recent call last)",
      "\u001b[1;32m<ipython-input-29-957f40052382>\u001b[0m in \u001b[0;36m<module>\u001b[1;34m\u001b[0m\n\u001b[1;32m----> 1\u001b[1;33m \u001b[0mprint\u001b[0m\u001b[1;33m(\u001b[0m\u001b[0mverse\u001b[0m\u001b[1;33m-\u001b[0m\u001b[0mset\u001b[0m\u001b[1;33m)\u001b[0m\u001b[1;33m\u001b[0m\u001b[1;33m\u001b[0m\u001b[0m\n\u001b[0m",
      "\u001b[1;31mTypeError\u001b[0m: unsupported operand type(s) for -: 'str' and 'type'"
     ]
    }
   ],
   "source": [
    "print(verse-set)"
   ]
  },
  {
   "cell_type": "code",
   "execution_count": 30,
   "id": "28a0014f",
   "metadata": {},
   "outputs": [
    {
     "name": "stdout",
     "output_type": "stream",
     "text": [
      "{'doubt', 'their', 'your', 'lies', 'look', 'nor', 'it', 'waiting', 'wait', 'allowance', 'can', 'wise', 'by', 'and', 'yourself', 'deal', 'doubting', 'but', 'being', 'or', 'make', 'don’t', 'to', 'keep', 'good', 'talk', 'in', 'head', 'on', 'yet', 'way', 'trust', 'about', 'hating', 'theirs', 'for', 'too', 'lied', 'when', 'you', 'if', 'be', 'blaming', 'are', 'men', 'hated', 'not', 'tired', 'give', 'all', 'losing'}\n"
     ]
    }
   ],
   "source": [
    "print(verse_set)"
   ]
  },
  {
   "cell_type": "code",
   "execution_count": 31,
   "id": "b2f3b394",
   "metadata": {},
   "outputs": [
    {
     "name": "stdout",
     "output_type": "stream",
     "text": [
      "{'doubt', 'their', 'your', 'lies', 'look', 'nor', 'it', 'waiting', 'wait', 'allowance', 'can', 'wise', 'by', 'and', 'yourself', 'deal', 'doubting', 'but', 'being', 'or', 'make', 'don’t', 'to', 'keep', 'good', 'talk', 'in', 'head', 'on', 'yet', 'way', 'trust', 'about', 'hating', 'theirs', 'for', 'too', 'lied', 'when', 'you', 'if', 'be', 'blaming', 'are', 'men', 'hated', 'not', 'tired', 'give', 'all', 'losing'} \n",
      "\n"
     ]
    }
   ],
   "source": [
    "print(verse_set, '\\n')"
   ]
  },
  {
   "cell_type": "code",
   "execution_count": 32,
   "id": "b2decb2a",
   "metadata": {},
   "outputs": [],
   "source": [
    "num_unique = len(verse_set)"
   ]
  },
  {
   "cell_type": "code",
   "execution_count": 33,
   "id": "5eaf40bd",
   "metadata": {},
   "outputs": [
    {
     "name": "stdout",
     "output_type": "stream",
     "text": [
      "51\n"
     ]
    }
   ],
   "source": [
    "print(num_unique)"
   ]
  },
  {
   "cell_type": "code",
   "execution_count": 34,
   "id": "1b525193",
   "metadata": {},
   "outputs": [],
   "source": [
    "verse_dict =  {'if': 3, 'you': 6, 'can': 3, 'keep': 1, 'your': 1, 'head': 1, 'when': 2, 'all': 2, 'about': 2, 'are': 1, 'losing': 1, 'theirs': 1, 'and': 3, 'blaming': 1, 'it': 1, 'on': 1, 'trust': 1, 'yourself': 1, 'men': 1, 'doubt': 1, 'but': 1, 'make': 1, 'allowance': 1, 'for': 1, 'their': 1, 'doubting': 1, 'too': 3, 'wait': 1, 'not': 1, 'be': 1, 'tired': 1, 'by': 1, 'waiting': 1, 'or': 2, 'being': 2, 'lied': 1, 'don\\'t': 3, 'deal': 1, 'in': 1, 'lies': 1, 'hated': 1, 'give': 1, 'way': 1, 'to': 1, 'hating': 1, 'yet': 1, 'look': 1, 'good': 1, 'nor': 1, 'talk': 1, 'wise': 1}"
   ]
  },
  {
   "cell_type": "code",
   "execution_count": 35,
   "id": "def06c71",
   "metadata": {},
   "outputs": [
    {
     "name": "stdout",
     "output_type": "stream",
     "text": [
      "{'if': 3, 'you': 6, 'can': 3, 'keep': 1, 'your': 1, 'head': 1, 'when': 2, 'all': 2, 'about': 2, 'are': 1, 'losing': 1, 'theirs': 1, 'and': 3, 'blaming': 1, 'it': 1, 'on': 1, 'trust': 1, 'yourself': 1, 'men': 1, 'doubt': 1, 'but': 1, 'make': 1, 'allowance': 1, 'for': 1, 'their': 1, 'doubting': 1, 'too': 3, 'wait': 1, 'not': 1, 'be': 1, 'tired': 1, 'by': 1, 'waiting': 1, 'or': 2, 'being': 2, 'lied': 1, \"don't\": 3, 'deal': 1, 'in': 1, 'lies': 1, 'hated': 1, 'give': 1, 'way': 1, 'to': 1, 'hating': 1, 'yet': 1, 'look': 1, 'good': 1, 'nor': 1, 'talk': 1, 'wise': 1} \n",
      "\n"
     ]
    }
   ],
   "source": [
    "print(verse_dict, '\\n')"
   ]
  },
  {
   "cell_type": "code",
   "execution_count": 36,
   "id": "b5578133",
   "metadata": {},
   "outputs": [
    {
     "name": "stdout",
     "output_type": "stream",
     "text": [
      "8\n"
     ]
    }
   ],
   "source": [
    "print(verse.count('you'))"
   ]
  },
  {
   "cell_type": "code",
   "execution_count": 37,
   "id": "5a33baf8",
   "metadata": {},
   "outputs": [],
   "source": [
    "num_keys = len(verse_dict)"
   ]
  },
  {
   "cell_type": "code",
   "execution_count": 38,
   "id": "64acd721",
   "metadata": {},
   "outputs": [
    {
     "name": "stdout",
     "output_type": "stream",
     "text": [
      "51\n"
     ]
    }
   ],
   "source": [
    "print(num_keys)"
   ]
  },
  {
   "cell_type": "code",
   "execution_count": 39,
   "id": "db29386f",
   "metadata": {},
   "outputs": [],
   "source": [
    "contains_breathe = \"breathe\" in verse_dict"
   ]
  },
  {
   "cell_type": "code",
   "execution_count": 40,
   "id": "7158ffe2",
   "metadata": {},
   "outputs": [
    {
     "name": "stdout",
     "output_type": "stream",
     "text": [
      "False\n"
     ]
    }
   ],
   "source": [
    "print(contains_breathe)"
   ]
  },
  {
   "cell_type": "code",
   "execution_count": 41,
   "id": "b4b8fb69",
   "metadata": {},
   "outputs": [],
   "source": [
    "items = list(verse_dict.items())"
   ]
  },
  {
   "cell_type": "code",
   "execution_count": 42,
   "id": "ab212cb7",
   "metadata": {},
   "outputs": [
    {
     "ename": "SyntaxError",
     "evalue": "unexpected EOF while parsing (<ipython-input-42-7b1a80718905>, line 1)",
     "output_type": "error",
     "traceback": [
      "\u001b[1;36m  File \u001b[1;32m\"<ipython-input-42-7b1a80718905>\"\u001b[1;36m, line \u001b[1;32m1\u001b[0m\n\u001b[1;33m    def sort_by_value(item):\u001b[0m\n\u001b[1;37m                            ^\u001b[0m\n\u001b[1;31mSyntaxError\u001b[0m\u001b[1;31m:\u001b[0m unexpected EOF while parsing\n"
     ]
    }
   ],
   "source": [
    "def sort_by_value(item):"
   ]
  },
  {
   "cell_type": "code",
   "execution_count": 43,
   "id": "1d2bf240",
   "metadata": {},
   "outputs": [],
   "source": [
    "def sort_by_value(item):\n",
    "          return item[1]\n",
    "items.sort(key=sort_by_value)\n",
    "sorted_keys = [item[0] for item in items]"
   ]
  },
  {
   "cell_type": "code",
   "execution_count": 44,
   "id": "cff5655a",
   "metadata": {},
   "outputs": [
    {
     "name": "stdout",
     "output_type": "stream",
     "text": [
      "['keep', 'your', 'head', 'are', 'losing', 'theirs', 'blaming', 'it', 'on', 'trust', 'yourself', 'men', 'doubt', 'but', 'make', 'allowance', 'for', 'their', 'doubting', 'wait', 'not', 'be', 'tired', 'by', 'waiting', 'lied', 'deal', 'in', 'lies', 'hated', 'give', 'way', 'to', 'hating', 'yet', 'look', 'good', 'nor', 'talk', 'wise', 'when', 'all', 'about', 'or', 'being', 'if', 'can', 'and', 'too', \"don't\", 'you']\n"
     ]
    }
   ],
   "source": [
    "print(sorted_keys)"
   ]
  },
  {
   "cell_type": "code",
   "execution_count": 45,
   "id": "8bd4451e",
   "metadata": {},
   "outputs": [
    {
     "name": "stdout",
     "output_type": "stream",
     "text": [
      "keep\n"
     ]
    }
   ],
   "source": [
    "print(sorted_keys[0])"
   ]
  },
  {
   "cell_type": "code",
   "execution_count": 46,
   "id": "160dc0be",
   "metadata": {},
   "outputs": [
    {
     "ename": "NameError",
     "evalue": "name 'phone_balance' is not defined",
     "output_type": "error",
     "traceback": [
      "\u001b[1;31m---------------------------------------------------------------------------\u001b[0m",
      "\u001b[1;31mNameError\u001b[0m                                 Traceback (most recent call last)",
      "\u001b[1;32m<ipython-input-46-8e890685b738>\u001b[0m in \u001b[0;36m<module>\u001b[1;34m\u001b[0m\n\u001b[1;32m----> 1\u001b[1;33m \u001b[1;32mif\u001b[0m \u001b[0mphone_balance\u001b[0m \u001b[1;33m<\u001b[0m \u001b[1;36m5\u001b[0m\u001b[1;33m:\u001b[0m\u001b[1;33m\u001b[0m\u001b[1;33m\u001b[0m\u001b[0m\n\u001b[0m\u001b[0;32m      2\u001b[0m     \u001b[0mphone_balance\u001b[0m \u001b[1;33m+=\u001b[0m \u001b[1;36m10\u001b[0m\u001b[1;33m\u001b[0m\u001b[1;33m\u001b[0m\u001b[0m\n\u001b[0;32m      3\u001b[0m     \u001b[0mbank_balance\u001b[0m \u001b[1;33m-=\u001b[0m \u001b[1;36m10\u001b[0m\u001b[1;33m\u001b[0m\u001b[1;33m\u001b[0m\u001b[0m\n",
      "\u001b[1;31mNameError\u001b[0m: name 'phone_balance' is not defined"
     ]
    }
   ],
   "source": [
    "if phone_balance < 5:\n",
    "    phone_balance += 10\n",
    "    bank_balance -= 10"
   ]
  },
  {
   "cell_type": "code",
   "execution_count": 47,
   "id": "06c17176",
   "metadata": {},
   "outputs": [],
   "source": [
    "phone_balance=15"
   ]
  },
  {
   "cell_type": "code",
   "execution_count": 48,
   "id": "6893df69",
   "metadata": {},
   "outputs": [],
   "source": [
    "if phone_balance < 5:\n",
    "    phone_balance += 10\n",
    "    bank_balance -= 10"
   ]
  },
  {
   "cell_type": "code",
   "execution_count": 49,
   "id": "c74fc46a",
   "metadata": {},
   "outputs": [
    {
     "name": "stdout",
     "output_type": "stream",
     "text": [
      "15\n"
     ]
    }
   ],
   "source": [
    "print(phone_balance)"
   ]
  },
  {
   "cell_type": "code",
   "execution_count": 50,
   "id": "27e8d846",
   "metadata": {},
   "outputs": [],
   "source": [
    "season=\"Winter\""
   ]
  },
  {
   "cell_type": "code",
   "execution_count": null,
   "id": "302acf66",
   "metadata": {},
   "outputs": [],
   "source": []
  },
  {
   "cell_type": "code",
   "execution_count": 51,
   "id": "24f4994f",
   "metadata": {},
   "outputs": [
    {
     "name": "stdout",
     "output_type": "stream",
     "text": [
      "unrecognized season\n"
     ]
    }
   ],
   "source": [
    "if season == 'spring':\n",
    "    print('plant the garden!')\n",
    "elif season == 'summer':\n",
    "    print('water the garden!')\n",
    "elif season == 'fall':\n",
    "    print('harvest the garden!')\n",
    "elif season == 'winter':\n",
    "    print('stay indoors!')\n",
    "else:\n",
    "    print('unrecognized season')"
   ]
  },
  {
   "cell_type": "code",
   "execution_count": null,
   "id": "354ab905",
   "metadata": {},
   "outputs": [],
   "source": []
  }
 ],
 "metadata": {
  "kernelspec": {
   "display_name": "Python 3",
   "language": "python",
   "name": "python3"
  },
  "language_info": {
   "codemirror_mode": {
    "name": "ipython",
    "version": 3
   },
   "file_extension": ".py",
   "mimetype": "text/x-python",
   "name": "python",
   "nbconvert_exporter": "python",
   "pygments_lexer": "ipython3",
   "version": "3.8.8"
  }
 },
 "nbformat": 4,
 "nbformat_minor": 5
}
