{
 "cells": [
  {
   "cell_type": "code",
   "execution_count": 1,
   "id": "5c971dac",
   "metadata": {},
   "outputs": [
    {
     "name": "stdout",
     "output_type": "stream",
     "text": [
      "Local Bear Eaten by Man Legislature Announces New Laws Peasant Discovers Violence Inherent in System Cat Rescues Fireman Stuck in Tree Brave\n"
     ]
    }
   ],
   "source": [
    "headlines = [\"Local Bear Eaten by Man\",\n",
    "             \"Legislature Announces New Laws\",\n",
    "             \"Peasant Discovers Violence Inherent in System\",\n",
    "             \"Cat Rescues Fireman Stuck in Tree\",\n",
    "             \"Brave Knight Runs Away\",\n",
    "             \"Papperbok Review: Totally Triffic\"]\n",
    "news_ticker = \"\"\n",
    "for headline in headlines:\n",
    "    news_ticker += headline + \" \"\n",
    "    if len(news_ticker) >= 140:\n",
    "        news_ticker = news_ticker[:140]\n",
    "        break\n",
    "\n",
    "print(news_ticker)"
   ]
  },
  {
   "cell_type": "code",
   "execution_count": 2,
   "id": "10442ef1",
   "metadata": {},
   "outputs": [
    {
     "name": "stdout",
     "output_type": "stream",
     "text": [
      "6\n"
     ]
    }
   ],
   "source": [
    "print(len(headlines))"
   ]
  },
  {
   "cell_type": "code",
   "execution_count": 3,
   "id": "e4412cef",
   "metadata": {},
   "outputs": [
    {
     "name": "stdout",
     "output_type": "stream",
     "text": [
      "140\n"
     ]
    }
   ],
   "source": [
    "print(len(news_ticker))"
   ]
  },
  {
   "cell_type": "code",
   "execution_count": 4,
   "id": "54e43fac",
   "metadata": {},
   "outputs": [],
   "source": [
    "check_prime = [26, 39, 51, 53, 57, 79, 85]"
   ]
  },
  {
   "cell_type": "code",
   "execution_count": 5,
   "id": "24093db5",
   "metadata": {},
   "outputs": [
    {
     "ename": "SyntaxError",
     "evalue": "invalid syntax (<ipython-input-5-084fcba94e8f>, line 4)",
     "output_type": "error",
     "traceback": [
      "\u001b[1;36m  File \u001b[1;32m\"<ipython-input-5-084fcba94e8f>\"\u001b[1;36m, line \u001b[1;32m4\u001b[0m\n\u001b[1;33m    else print(\"{} is not a prime number, because 2 is a factor of {}\").format(prime)\u001b[0m\n\u001b[1;37m    ^\u001b[0m\n\u001b[1;31mSyntaxError\u001b[0m\u001b[1;31m:\u001b[0m invalid syntax\n"
     ]
    }
   ],
   "source": [
    "while prime in check_prime:\n",
    "    if prime % 2 != 0:\n",
    "        print(\"{} is prime\".format(prime))\n",
    "        else print(\"{} is not a prime number, because 2 is a factor of {}\").format(prime)"
   ]
  },
  {
   "cell_type": "code",
   "execution_count": 6,
   "id": "5a2151c2",
   "metadata": {},
   "outputs": [],
   "source": [
    "for num in check_prime:\n",
    "\n",
    "  ## check if the number is 2\n",
    "  if num == 2:\n",
    "      print(\"{} IS a prime number\".format(num))\n",
    "      continue"
   ]
  },
  {
   "cell_type": "code",
   "execution_count": 7,
   "id": "613efea0",
   "metadata": {},
   "outputs": [
    {
     "name": "stdout",
     "output_type": "stream",
     "text": [
      "85 is NOT a prime number, because 5 is a factor of 85\n"
     ]
    }
   ],
   "source": [
    "for i in range(2, num):\n",
    "  \n",
    "      ## number is not prime if modulo is 0\n",
    "      if (num % i) == 0:\n",
    "          print(\"{} is NOT a prime number, because {} is a factor of {}\".format(num, i, num))\n",
    "          break\n",
    "  \n",
    "      ## otherwise keep checking until we've searched all possible factors, and then declare it prime\n",
    "      if i == num -1:    \n",
    "          print(\"{} IS a prime number\".format(num))"
   ]
  },
  {
   "cell_type": "code",
   "execution_count": 8,
   "id": "666ed1b1",
   "metadata": {},
   "outputs": [
    {
     "name": "stdout",
     "output_type": "stream",
     "text": [
      "26 is NOT a prime number, because 2 is a factor of 26\n",
      "39 is NOT a prime number, because 3 is a factor of 39\n",
      "51 is NOT a prime number, because 3 is a factor of 51\n",
      "53 IS a prime number\n",
      "57 is NOT a prime number, because 3 is a factor of 57\n",
      "79 IS a prime number\n",
      "85 is NOT a prime number, because 5 is a factor of 85\n"
     ]
    }
   ],
   "source": [
    "check_prime = [26, 39, 51, 53, 57, 79, 85]\n",
    "\n",
    "## iterate through the check_prime list\n",
    "\n",
    "for num in check_prime:\n",
    "\n",
    "  ## check if the number is 2\n",
    "  if num == 2:\n",
    "      print(\"{} IS a prime number\".format(num))\n",
    "      continue\n",
    "\n",
    "  ## search for factors, iterating through numbers ranging from 2 to the number itself\n",
    "  for i in range(2, num):\n",
    "  \n",
    "      ## number is not prime if modulo is 0\n",
    "      if (num % i) == 0:\n",
    "          print(\"{} is NOT a prime number, because {} is a factor of {}\".format(num, i, num))\n",
    "          break\n",
    "  \n",
    "      ## otherwise keep checking until we've searched all possible factors, and then declare it prime\n",
    "      if i == num -1:    \n",
    "          print(\"{} IS a prime number\".format(num))"
   ]
  },
  {
   "cell_type": "code",
   "execution_count": 9,
   "id": "fdddf034",
   "metadata": {},
   "outputs": [
    {
     "data": {
      "text/plain": [
       "[('a', 1), ('b', 2), ('c', 3)]"
      ]
     },
     "execution_count": 9,
     "metadata": {},
     "output_type": "execute_result"
    }
   ],
   "source": [
    "list(zip(['a', 'b', 'c'], [1, 2, 3]))"
   ]
  },
  {
   "cell_type": "code",
   "execution_count": 10,
   "id": "2d18d3ca",
   "metadata": {},
   "outputs": [
    {
     "name": "stdout",
     "output_type": "stream",
     "text": [
      "a: 1\n",
      "b: 2\n",
      "c: 3\n"
     ]
    }
   ],
   "source": [
    "letters = ['a', 'b', 'c']\n",
    "nums = [1, 2, 3]\n",
    "\n",
    "for letter, num in zip(letters, nums):\n",
    "      print(\"{}: {}\".format(letter, num))"
   ]
  },
  {
   "cell_type": "code",
   "execution_count": 11,
   "id": "59aec117",
   "metadata": {},
   "outputs": [],
   "source": [
    "some_list = [('a', 1), ('b', 2), ('c', 3)]\n",
    "letters, nums = zip(*some_list)"
   ]
  },
  {
   "cell_type": "code",
   "execution_count": 12,
   "id": "434d148b",
   "metadata": {},
   "outputs": [
    {
     "name": "stdout",
     "output_type": "stream",
     "text": [
      "('a', 'b', 'c') (1, 2, 3)\n"
     ]
    }
   ],
   "source": [
    "print(letters, nums)"
   ]
  },
  {
   "cell_type": "code",
   "execution_count": 13,
   "id": "f1976dd6",
   "metadata": {},
   "outputs": [
    {
     "name": "stdout",
     "output_type": "stream",
     "text": [
      "letters=('a', 'b', 'c') nums=(1, 2, 3)\n"
     ]
    }
   ],
   "source": [
    "print(\"letters={} nums={}\".format(letters, nums))"
   ]
  },
  {
   "cell_type": "code",
   "execution_count": 14,
   "id": "3de0a68c",
   "metadata": {},
   "outputs": [
    {
     "name": "stdout",
     "output_type": "stream",
     "text": [
      "0 a\n",
      "1 b\n",
      "2 c\n",
      "3 d\n",
      "4 e\n"
     ]
    }
   ],
   "source": [
    "letters = ['a', 'b', 'c', 'd', 'e']\n",
    "for i, letter in enumerate(letters):\n",
    "      print(i, letter)"
   ]
  },
  {
   "cell_type": "code",
   "execution_count": 15,
   "id": "b5da0b7c",
   "metadata": {},
   "outputs": [
    {
     "name": "stdout",
     "output_type": "stream",
     "text": [
      "F: 23, 677, 4\n",
      "J: 53, 233, 16\n",
      "A: 2, 405, -6\n",
      "Q: -12, 433, -42\n",
      "Y: 95, 905, 3\n",
      "B: 103, 376, -6\n",
      "W: 14, 432, 23\n",
      "X: -5, 445, -1\n"
     ]
    }
   ],
   "source": [
    "x_coord = [23, 53, 2, -12, 95, 103, 14, -5]\n",
    "y_coord = [677, 233, 405, 433, 905, 376, 432, 445]\n",
    "z_coord = [4, 16, -6, -42, 3, -6, 23, -1]\n",
    "labels = [\"F\", \"J\", \"A\", \"Q\", \"Y\", \"B\", \"W\", \"X\"]\n",
    "\n",
    "points = []\n",
    "for point in zip(labels, x_coord, y_coord, z_coord):\n",
    "    points.append(\"{}: {}, {}, {}\".format(*point))\n",
    "\n",
    "for point in points:\n",
    "    print(point)"
   ]
  },
  {
   "cell_type": "code",
   "execution_count": 16,
   "id": "2414e497",
   "metadata": {},
   "outputs": [
    {
     "name": "stdout",
     "output_type": "stream",
     "text": [
      "{'Barney': 72, 'Robin': 68, 'Ted': 72, 'Lily': 66, 'Marshall': 76}\n"
     ]
    }
   ],
   "source": [
    "cast_names = [\"Barney\", \"Robin\", \"Ted\", \"Lily\", \"Marshall\"]\n",
    "cast_heights = [72, 68, 72, 66, 76]\n",
    "\n",
    "cast = dict(zip(cast_names, cast_heights))\n",
    "print(cast)"
   ]
  },
  {
   "cell_type": "code",
   "execution_count": 17,
   "id": "c331357a",
   "metadata": {},
   "outputs": [
    {
     "name": "stdout",
     "output_type": "stream",
     "text": [
      "((0, 3, 6, 9), (1, 4, 7, 10), (2, 5, 8, 11))\n"
     ]
    }
   ],
   "source": [
    "data = ((0, 1, 2), (3, 4, 5), (6, 7, 8), (9, 10, 11))\n",
    "\n",
    "data_transpose = tuple(zip(*data))\n",
    "print(data_transpose)"
   ]
  },
  {
   "cell_type": "code",
   "execution_count": 18,
   "id": "b518cb56",
   "metadata": {},
   "outputs": [
    {
     "ename": "NameError",
     "evalue": "name 'cities' is not defined",
     "output_type": "error",
     "traceback": [
      "\u001b[1;31m---------------------------------------------------------------------------\u001b[0m",
      "\u001b[1;31mNameError\u001b[0m                                 Traceback (most recent call last)",
      "\u001b[1;32m<ipython-input-18-847c744e09c3>\u001b[0m in \u001b[0;36m<module>\u001b[1;34m\u001b[0m\n\u001b[0;32m      1\u001b[0m \u001b[0mcapitalized_cities\u001b[0m \u001b[1;33m=\u001b[0m \u001b[1;33m[\u001b[0m\u001b[1;33m]\u001b[0m\u001b[1;33m\u001b[0m\u001b[1;33m\u001b[0m\u001b[0m\n\u001b[1;32m----> 2\u001b[1;33m \u001b[1;32mfor\u001b[0m \u001b[0mcity\u001b[0m \u001b[1;32min\u001b[0m \u001b[0mcities\u001b[0m\u001b[1;33m:\u001b[0m\u001b[1;33m\u001b[0m\u001b[1;33m\u001b[0m\u001b[0m\n\u001b[0m\u001b[0;32m      3\u001b[0m     \u001b[0mcapitalized_cities\u001b[0m\u001b[1;33m.\u001b[0m\u001b[0mappend\u001b[0m\u001b[1;33m(\u001b[0m\u001b[0mcity\u001b[0m\u001b[1;33m.\u001b[0m\u001b[0mtitle\u001b[0m\u001b[1;33m(\u001b[0m\u001b[1;33m)\u001b[0m\u001b[1;33m)\u001b[0m\u001b[1;33m\u001b[0m\u001b[1;33m\u001b[0m\u001b[0m\n",
      "\u001b[1;31mNameError\u001b[0m: name 'cities' is not defined"
     ]
    }
   ],
   "source": [
    "capitalized_cities = []\n",
    "for city in cities:\n",
    "    capitalized_cities.append(city.title())"
   ]
  },
  {
   "cell_type": "code",
   "execution_count": 19,
   "id": "9a0453ca",
   "metadata": {},
   "outputs": [],
   "source": [
    "squares = [x**2 for x in range(9) if x % 2 == 0]"
   ]
  },
  {
   "cell_type": "code",
   "execution_count": 20,
   "id": "2c3f7bd3",
   "metadata": {},
   "outputs": [
    {
     "name": "stdout",
     "output_type": "stream",
     "text": [
      "[0, 4, 16, 36, 64]\n"
     ]
    }
   ],
   "source": [
    "print(squares)"
   ]
  },
  {
   "cell_type": "code",
   "execution_count": 21,
   "id": "f8d9c609",
   "metadata": {},
   "outputs": [],
   "source": [
    "def cylinder_volume(height, radius):\n",
    "    pi = 3.14159\n",
    "    return height  *pi*  radius ** 2"
   ]
  },
  {
   "cell_type": "code",
   "execution_count": 22,
   "id": "93e10a4a",
   "metadata": {},
   "outputs": [
    {
     "ename": "TypeError",
     "evalue": "cylinder_volume() missing 2 required positional arguments: 'height' and 'radius'",
     "output_type": "error",
     "traceback": [
      "\u001b[1;31m---------------------------------------------------------------------------\u001b[0m",
      "\u001b[1;31mTypeError\u001b[0m                                 Traceback (most recent call last)",
      "\u001b[1;32m<ipython-input-22-0bdb1af8e407>\u001b[0m in \u001b[0;36m<module>\u001b[1;34m\u001b[0m\n\u001b[1;32m----> 1\u001b[1;33m \u001b[0mcylinder_volume\u001b[0m\u001b[1;33m(\u001b[0m\u001b[1;33m)\u001b[0m\u001b[1;33m\u001b[0m\u001b[1;33m\u001b[0m\u001b[0m\n\u001b[0m",
      "\u001b[1;31mTypeError\u001b[0m: cylinder_volume() missing 2 required positional arguments: 'height' and 'radius'"
     ]
    }
   ],
   "source": [
    "cylinder_volume()"
   ]
  },
  {
   "cell_type": "code",
   "execution_count": 23,
   "id": "564fe392",
   "metadata": {},
   "outputs": [
    {
     "ename": "NameError",
     "evalue": "name 'cylinder' is not defined",
     "output_type": "error",
     "traceback": [
      "\u001b[1;31m---------------------------------------------------------------------------\u001b[0m",
      "\u001b[1;31mNameError\u001b[0m                                 Traceback (most recent call last)",
      "\u001b[1;32m<ipython-input-23-7fa37a1731d5>\u001b[0m in \u001b[0;36m<module>\u001b[1;34m\u001b[0m\n\u001b[1;32m----> 1\u001b[1;33m \u001b[0mcylinder\u001b[0m\u001b[1;33m(\u001b[0m\u001b[1;36m5\u001b[0m\u001b[1;33m,\u001b[0m\u001b[1;36m4\u001b[0m\u001b[1;33m)\u001b[0m\u001b[1;33m\u001b[0m\u001b[1;33m\u001b[0m\u001b[0m\n\u001b[0m",
      "\u001b[1;31mNameError\u001b[0m: name 'cylinder' is not defined"
     ]
    }
   ],
   "source": [
    "cylinder(5,4)"
   ]
  },
  {
   "cell_type": "code",
   "execution_count": 24,
   "id": "582e03a4",
   "metadata": {},
   "outputs": [
    {
     "data": {
      "text/plain": [
       "251.3272"
      ]
     },
     "execution_count": 24,
     "metadata": {},
     "output_type": "execute_result"
    }
   ],
   "source": [
    "cylinder_volume(5,4)"
   ]
  },
  {
   "cell_type": "code",
   "execution_count": 25,
   "id": "f066b5f0",
   "metadata": {},
   "outputs": [
    {
     "ename": "SyntaxError",
     "evalue": "invalid syntax (<ipython-input-25-223fdaa2b1df>, line 1)",
     "output_type": "error",
     "traceback": [
      "\u001b[1;36m  File \u001b[1;32m\"<ipython-input-25-223fdaa2b1df>\"\u001b[1;36m, line \u001b[1;32m1\u001b[0m\n\u001b[1;33m    ef population_density(population, land_area):\u001b[0m\n\u001b[1;37m       ^\u001b[0m\n\u001b[1;31mSyntaxError\u001b[0m\u001b[1;31m:\u001b[0m invalid syntax\n"
     ]
    }
   ],
   "source": [
    "ef population_density(population, land_area):\n",
    "    return population/land_area\n",
    "\n",
    "# test cases for your function\n",
    "test1 = population_density(10, 1)"
   ]
  },
  {
   "cell_type": "code",
   "execution_count": 26,
   "id": "6749619b",
   "metadata": {},
   "outputs": [],
   "source": [
    "def population_density(population, land_area):\n",
    "    return population/land_area\n",
    "\n",
    "# test cases for your function\n",
    "test1 = population_density(10, 1)"
   ]
  },
  {
   "cell_type": "code",
   "execution_count": 27,
   "id": "e877cc3f",
   "metadata": {},
   "outputs": [
    {
     "name": "stdout",
     "output_type": "stream",
     "text": [
      "expected result: 10, actual result: 10.0\n"
     ]
    }
   ],
   "source": [
    "expected_result1 = 10\n",
    "print(\"expected result: {}, actual result: {}\".format(expected_result1, test1))"
   ]
  },
  {
   "cell_type": "code",
   "execution_count": 28,
   "id": "40432f50",
   "metadata": {},
   "outputs": [
    {
     "name": "stdout",
     "output_type": "stream",
     "text": [
      "expected result: 7123.6902801, actual result: 7123.690280065897\n"
     ]
    }
   ],
   "source": [
    "test2 = population_density(864816, 121.4)\n",
    "expected_result2 = 7123.6902801\n",
    "print(\"expected result: {}, actual result: {}\".format(expected_result2, test2))"
   ]
  },
  {
   "cell_type": "code",
   "execution_count": 1,
   "id": "733f2d15",
   "metadata": {},
   "outputs": [
    {
     "ename": "UnboundLocalError",
     "evalue": "local variable 'egg_count' referenced before assignment",
     "output_type": "error",
     "traceback": [
      "\u001b[1;31m---------------------------------------------------------------------------\u001b[0m",
      "\u001b[1;31mUnboundLocalError\u001b[0m                         Traceback (most recent call last)",
      "\u001b[1;32m<ipython-input-1-32dca0f4d031>\u001b[0m in \u001b[0;36m<module>\u001b[1;34m\u001b[0m\n\u001b[0;32m      4\u001b[0m     \u001b[0megg_count\u001b[0m \u001b[1;33m+=\u001b[0m \u001b[1;36m12\u001b[0m \u001b[1;31m# purchase a dozen eggs\u001b[0m\u001b[1;33m\u001b[0m\u001b[1;33m\u001b[0m\u001b[0m\n\u001b[0;32m      5\u001b[0m \u001b[1;33m\u001b[0m\u001b[0m\n\u001b[1;32m----> 6\u001b[1;33m \u001b[0mbuy_eggs\u001b[0m\u001b[1;33m(\u001b[0m\u001b[1;33m)\u001b[0m\u001b[1;33m\u001b[0m\u001b[1;33m\u001b[0m\u001b[0m\n\u001b[0m",
      "\u001b[1;32m<ipython-input-1-32dca0f4d031>\u001b[0m in \u001b[0;36mbuy_eggs\u001b[1;34m()\u001b[0m\n\u001b[0;32m      2\u001b[0m \u001b[1;33m\u001b[0m\u001b[0m\n\u001b[0;32m      3\u001b[0m \u001b[1;32mdef\u001b[0m \u001b[0mbuy_eggs\u001b[0m\u001b[1;33m(\u001b[0m\u001b[1;33m)\u001b[0m\u001b[1;33m:\u001b[0m\u001b[1;33m\u001b[0m\u001b[1;33m\u001b[0m\u001b[0m\n\u001b[1;32m----> 4\u001b[1;33m     \u001b[0megg_count\u001b[0m \u001b[1;33m+=\u001b[0m \u001b[1;36m12\u001b[0m \u001b[1;31m# purchase a dozen eggs\u001b[0m\u001b[1;33m\u001b[0m\u001b[1;33m\u001b[0m\u001b[0m\n\u001b[0m\u001b[0;32m      5\u001b[0m \u001b[1;33m\u001b[0m\u001b[0m\n\u001b[0;32m      6\u001b[0m \u001b[0mbuy_eggs\u001b[0m\u001b[1;33m(\u001b[0m\u001b[1;33m)\u001b[0m\u001b[1;33m\u001b[0m\u001b[1;33m\u001b[0m\u001b[0m\n",
      "\u001b[1;31mUnboundLocalError\u001b[0m: local variable 'egg_count' referenced before assignment"
     ]
    }
   ],
   "source": [
    "egg_count = 0\n",
    "\n",
    "def buy_eggs():\n",
    "    egg_count += 12 # purchase a dozen eggs\n",
    "\n",
    "buy_eggs()"
   ]
  },
  {
   "cell_type": "code",
   "execution_count": 2,
   "id": "ee364ca7",
   "metadata": {},
   "outputs": [],
   "source": [
    "egg_count = 0\n",
    "\n",
    "def buy_eggs():\n",
    "    egg_count += 12 # purchase a dozen eggs\n",
    "    print(egg_count)\n",
    "\n"
   ]
  },
  {
   "cell_type": "code",
   "execution_count": 3,
   "id": "d752c3cf",
   "metadata": {},
   "outputs": [],
   "source": [
    "egg_count = 0\n",
    "\n",
    "def buy_eggs(count):\n",
    "    return count + 12  # purchase a dozen eggs\n",
    "\n",
    "egg_count = buy_eggs(egg_count)"
   ]
  },
  {
   "cell_type": "code",
   "execution_count": 4,
   "id": "fe11f41d",
   "metadata": {},
   "outputs": [
    {
     "name": "stdout",
     "output_type": "stream",
     "text": [
      "12\n"
     ]
    }
   ],
   "source": [
    "print(egg_count)"
   ]
  },
  {
   "cell_type": "code",
   "execution_count": 5,
   "id": "19d07c32",
   "metadata": {},
   "outputs": [
    {
     "name": "stdout",
     "output_type": "stream",
     "text": [
      "Variable scope is an important concept.\n"
     ]
    }
   ],
   "source": [
    "str1 = 'Functions are important programming concepts.'\n",
    "\n",
    "def print_fn():\n",
    "    str1 = 'Variable scope is an important concept.'\n",
    "    print(str1)\n",
    "\n",
    "print_fn()"
   ]
  },
  {
   "cell_type": "code",
   "execution_count": 6,
   "id": "9a73d3e8",
   "metadata": {},
   "outputs": [],
   "source": [
    "str1 = 'Functions are important programming concepts.'\n",
    "\n",
    "def print_fn():\n",
    "    str1 = 'Variable scope is an important concept.'\n",
    "    print(str1)"
   ]
  },
  {
   "cell_type": "code",
   "execution_count": 7,
   "id": "be884098",
   "metadata": {},
   "outputs": [
    {
     "name": "stdout",
     "output_type": "stream",
     "text": [
      "Variable scope is an important concept.\n"
     ]
    }
   ],
   "source": [
    "print_fn()"
   ]
  },
  {
   "cell_type": "code",
   "execution_count": 8,
   "id": "ad380855",
   "metadata": {},
   "outputs": [],
   "source": [
    "str1 = 'Functions are important programming concepts.'\n",
    "\n",
    "def print_fn():\n",
    "    #str1 = 'Variable scope is an important concept.'\n",
    "    print(str1)"
   ]
  },
  {
   "cell_type": "code",
   "execution_count": 9,
   "id": "03f1dbf0",
   "metadata": {},
   "outputs": [
    {
     "name": "stdout",
     "output_type": "stream",
     "text": [
      "Functions are important programming concepts.\n"
     ]
    }
   ],
   "source": [
    "str1 = 'Functions are important programming concepts.'\n",
    "\n",
    "def print_fn():\n",
    "    #str1 = 'Variable scope is an important concept.'\n",
    "    print(str1)\n",
    "\n",
    "print_fn()"
   ]
  },
  {
   "cell_type": "code",
   "execution_count": 10,
   "id": "6f92f811",
   "metadata": {},
   "outputs": [
    {
     "ename": "TypeError",
     "evalue": "print_fn() takes 0 positional arguments but 1 was given",
     "output_type": "error",
     "traceback": [
      "\u001b[1;31m---------------------------------------------------------------------------\u001b[0m",
      "\u001b[1;31mTypeError\u001b[0m                                 Traceback (most recent call last)",
      "\u001b[1;32m<ipython-input-10-63dbb439f82e>\u001b[0m in \u001b[0;36m<module>\u001b[1;34m\u001b[0m\n\u001b[0;32m      3\u001b[0m     \u001b[0mprint\u001b[0m\u001b[1;33m(\u001b[0m\u001b[0mstr1\u001b[0m\u001b[1;33m)\u001b[0m\u001b[1;33m\u001b[0m\u001b[1;33m\u001b[0m\u001b[0m\n\u001b[0;32m      4\u001b[0m \u001b[1;33m\u001b[0m\u001b[0m\n\u001b[1;32m----> 5\u001b[1;33m \u001b[0mprint_fn\u001b[0m\u001b[1;33m(\u001b[0m\u001b[0mstr1\u001b[0m\u001b[1;33m)\u001b[0m\u001b[1;33m\u001b[0m\u001b[1;33m\u001b[0m\u001b[0m\n\u001b[0m",
      "\u001b[1;31mTypeError\u001b[0m: print_fn() takes 0 positional arguments but 1 was given"
     ]
    }
   ],
   "source": [
    "def print_fn():\n",
    "    str1 = 'Variable scope is an important concept.'\n",
    "    print(str1)\n",
    "\n",
    "print_fn(str1)"
   ]
  },
  {
   "cell_type": "code",
   "execution_count": 11,
   "id": "89170611",
   "metadata": {},
   "outputs": [
    {
     "name": "stdout",
     "output_type": "stream",
     "text": [
      "Variable scope is an important concept.\n"
     ]
    }
   ],
   "source": [
    "def print_fn():\n",
    "    str1 = 'Variable scope is an important concept.'\n",
    "    print(str1)\n",
    "\n",
    "print_fn()"
   ]
  },
  {
   "cell_type": "code",
   "execution_count": 12,
   "id": "2a2aa0f2",
   "metadata": {},
   "outputs": [
    {
     "ename": "TypeError",
     "evalue": "print_fn() takes 0 positional arguments but 1 was given",
     "output_type": "error",
     "traceback": [
      "\u001b[1;31m---------------------------------------------------------------------------\u001b[0m",
      "\u001b[1;31mTypeError\u001b[0m                                 Traceback (most recent call last)",
      "\u001b[1;32m<ipython-input-12-09d5adc404d8>\u001b[0m in \u001b[0;36m<module>\u001b[1;34m\u001b[0m\n\u001b[0;32m      4\u001b[0m     \u001b[0mprint\u001b[0m\u001b[1;33m(\u001b[0m\u001b[0mstr1\u001b[0m\u001b[1;33m)\u001b[0m\u001b[1;33m\u001b[0m\u001b[1;33m\u001b[0m\u001b[0m\n\u001b[0;32m      5\u001b[0m \u001b[1;33m\u001b[0m\u001b[0m\n\u001b[1;32m----> 6\u001b[1;33m \u001b[0mprint_fn\u001b[0m\u001b[1;33m(\u001b[0m\u001b[0mstr1\u001b[0m\u001b[1;33m)\u001b[0m\u001b[1;33m\u001b[0m\u001b[1;33m\u001b[0m\u001b[0m\n\u001b[0m",
      "\u001b[1;31mTypeError\u001b[0m: print_fn() takes 0 positional arguments but 1 was given"
     ]
    }
   ],
   "source": [
    "str1 = 'Functions are important programming concepts.'\n",
    "\n",
    "def print_fn():\n",
    "    print(str1)\n",
    "\n",
    "print_fn(str1)"
   ]
  },
  {
   "cell_type": "code",
   "execution_count": 13,
   "id": "753fa8f6",
   "metadata": {},
   "outputs": [],
   "source": [
    "def population_density(population, land_area):\n",
    "    \"\"\"Calculate the population density of an area. \"\"\"\n",
    "    return population / land_area"
   ]
  },
  {
   "cell_type": "code",
   "execution_count": 14,
   "id": "30cc5df4",
   "metadata": {},
   "outputs": [
    {
     "ename": "TypeError",
     "evalue": "population_density() takes 2 positional arguments but 3 were given",
     "output_type": "error",
     "traceback": [
      "\u001b[1;31m---------------------------------------------------------------------------\u001b[0m",
      "\u001b[1;31mTypeError\u001b[0m                                 Traceback (most recent call last)",
      "\u001b[1;32m<ipython-input-14-11d932cfb40f>\u001b[0m in \u001b[0;36m<module>\u001b[1;34m\u001b[0m\n\u001b[1;32m----> 1\u001b[1;33m \u001b[0mpopulation_density\u001b[0m\u001b[1;33m(\u001b[0m\u001b[1;36m1000\u001b[0m\u001b[1;33m,\u001b[0m\u001b[1;36m20\u001b[0m\u001b[1;33m,\u001b[0m\u001b[1;36m000\u001b[0m\u001b[1;33m)\u001b[0m\u001b[1;33m\u001b[0m\u001b[1;33m\u001b[0m\u001b[0m\n\u001b[0m",
      "\u001b[1;31mTypeError\u001b[0m: population_density() takes 2 positional arguments but 3 were given"
     ]
    }
   ],
   "source": [
    "population_density(1000,20,000)"
   ]
  },
  {
   "cell_type": "code",
   "execution_count": 15,
   "id": "b0707a0a",
   "metadata": {},
   "outputs": [
    {
     "data": {
      "text/plain": [
       "0.05"
      ]
     },
     "execution_count": 15,
     "metadata": {},
     "output_type": "execute_result"
    }
   ],
   "source": [
    "population_density(1000,20000)"
   ]
  },
  {
   "cell_type": "code",
   "execution_count": 16,
   "id": "53fdabb2",
   "metadata": {},
   "outputs": [],
   "source": [
    "def population_density(population, land_area):\n",
    "    \"\"\"Calculate the population density of an area.\n",
    "\n",
    "    INPUT:\n",
    "    population: int. The population of that area\n",
    "    land_area: int or float. This function is unit-agnostic, if you pass in values in terms\n",
    "    of square km or square miles the function will return a density in those units.\n",
    "\n",
    "    OUTPUT: \n",
    "    population_density: population / land_area. The population density of a particular area.\n",
    "    \"\"\"\n",
    "    return population / land_area"
   ]
  },
  {
   "cell_type": "code",
   "execution_count": 17,
   "id": "5923a282",
   "metadata": {},
   "outputs": [
    {
     "data": {
      "text/plain": [
       "28"
      ]
     },
     "execution_count": 17,
     "metadata": {},
     "output_type": "execute_result"
    }
   ],
   "source": [
    "multiply = lambda x, y: x * y\n",
    "multiply(4, 7)"
   ]
  },
  {
   "cell_type": "code",
   "execution_count": 18,
   "id": "be84d729",
   "metadata": {},
   "outputs": [
    {
     "name": "stdout",
     "output_type": "stream",
     "text": [
      "[57.0, 58.2, 50.6, 27.2]\n"
     ]
    }
   ],
   "source": [
    "numbers = [\n",
    "              [34, 63, 88, 71, 29],\n",
    "              [90, 78, 51, 27, 45],\n",
    "              [63, 37, 85, 46, 22],\n",
    "              [51, 22, 34, 11, 18]\n",
    "           ]\n",
    "\n",
    "averages = list(map(lambda x: sum(x) / len(x), numbers))\n",
    "print(averages)"
   ]
  },
  {
   "cell_type": "code",
   "execution_count": null,
   "id": "604bb171",
   "metadata": {},
   "outputs": [],
   "source": []
  }
 ],
 "metadata": {
  "kernelspec": {
   "display_name": "Python 3",
   "language": "python",
   "name": "python3"
  },
  "language_info": {
   "codemirror_mode": {
    "name": "ipython",
    "version": 3
   },
   "file_extension": ".py",
   "mimetype": "text/x-python",
   "name": "python",
   "nbconvert_exporter": "python",
   "pygments_lexer": "ipython3",
   "version": "3.8.8"
  }
 },
 "nbformat": 4,
 "nbformat_minor": 5
}
