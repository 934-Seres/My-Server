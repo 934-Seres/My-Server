{
 "cells": [
  {
   "cell_type": "code",
   "execution_count": 1,
   "id": "83f0b6f6",
   "metadata": {},
   "outputs": [
    {
     "data": {
      "text/plain": [
       "'Hello World'"
      ]
     },
     "execution_count": 1,
     "metadata": {},
     "output_type": "execute_result"
    }
   ],
   "source": [
    "\"Hello World\""
   ]
  },
  {
   "cell_type": "code",
   "execution_count": 2,
   "id": "5f4b05ba",
   "metadata": {},
   "outputs": [
    {
     "data": {
      "text/plain": [
       "1"
      ]
     },
     "execution_count": 2,
     "metadata": {},
     "output_type": "execute_result"
    }
   ],
   "source": [
    "list_of_random_things = [1, 3.4, 'a string', True]\n",
    "list_of_random_things[0]\n"
   ]
  },
  {
   "cell_type": "code",
   "execution_count": 3,
   "id": "215bc004",
   "metadata": {},
   "outputs": [],
   "source": [
    "list_of_random_things = [1, 3.4, 'a string', True]"
   ]
  },
  {
   "cell_type": "code",
   "execution_count": 4,
   "id": "b4a85859",
   "metadata": {},
   "outputs": [
    {
     "data": {
      "text/plain": [
       "True"
      ]
     },
     "execution_count": 4,
     "metadata": {},
     "output_type": "execute_result"
    }
   ],
   "source": [
    "list_of_random_things[3]"
   ]
  },
  {
   "cell_type": "code",
   "execution_count": 5,
   "id": "89855248",
   "metadata": {},
   "outputs": [
    {
     "ename": "IndexError",
     "evalue": "list index out of range",
     "output_type": "error",
     "traceback": [
      "\u001b[1;31m---------------------------------------------------------------------------\u001b[0m",
      "\u001b[1;31mIndexError\u001b[0m                                Traceback (most recent call last)",
      "\u001b[1;32m<ipython-input-5-ee5743f28c5a>\u001b[0m in \u001b[0;36m<module>\u001b[1;34m\u001b[0m\n\u001b[1;32m----> 1\u001b[1;33m \u001b[0mlist_of_random_things\u001b[0m\u001b[1;33m[\u001b[0m\u001b[0mlen\u001b[0m\u001b[1;33m(\u001b[0m\u001b[0mlist_of_random_things\u001b[0m\u001b[1;33m)\u001b[0m\u001b[1;33m]\u001b[0m\u001b[1;33m\u001b[0m\u001b[1;33m\u001b[0m\u001b[0m\n\u001b[0m",
      "\u001b[1;31mIndexError\u001b[0m: list index out of range"
     ]
    }
   ],
   "source": [
    "list_of_random_things[len(list_of_random_things)] "
   ]
  },
  {
   "cell_type": "code",
   "execution_count": 6,
   "id": "6ea8f005",
   "metadata": {},
   "outputs": [],
   "source": [
    "list_of_random_things = [1, 3.4, 'a string', True]"
   ]
  },
  {
   "cell_type": "code",
   "execution_count": 7,
   "id": "53ed65fe",
   "metadata": {},
   "outputs": [
    {
     "ename": "IndexError",
     "evalue": "list index out of range",
     "output_type": "error",
     "traceback": [
      "\u001b[1;31m---------------------------------------------------------------------------\u001b[0m",
      "\u001b[1;31mIndexError\u001b[0m                                Traceback (most recent call last)",
      "\u001b[1;32m<ipython-input-7-ee5743f28c5a>\u001b[0m in \u001b[0;36m<module>\u001b[1;34m\u001b[0m\n\u001b[1;32m----> 1\u001b[1;33m \u001b[0mlist_of_random_things\u001b[0m\u001b[1;33m[\u001b[0m\u001b[0mlen\u001b[0m\u001b[1;33m(\u001b[0m\u001b[0mlist_of_random_things\u001b[0m\u001b[1;33m)\u001b[0m\u001b[1;33m]\u001b[0m\u001b[1;33m\u001b[0m\u001b[1;33m\u001b[0m\u001b[0m\n\u001b[0m",
      "\u001b[1;31mIndexError\u001b[0m: list index out of range"
     ]
    }
   ],
   "source": [
    "list_of_random_things[len(list_of_random_things)] "
   ]
  },
  {
   "cell_type": "code",
   "execution_count": 8,
   "id": "0338db66",
   "metadata": {},
   "outputs": [
    {
     "data": {
      "text/plain": [
       "True"
      ]
     },
     "execution_count": 8,
     "metadata": {},
     "output_type": "execute_result"
    }
   ],
   "source": [
    "list_of_random_things[len(list_of_random_things) - 1]"
   ]
  },
  {
   "cell_type": "code",
   "execution_count": 9,
   "id": "98f07cdb",
   "metadata": {},
   "outputs": [
    {
     "data": {
      "text/plain": [
       "[3.4]"
      ]
     },
     "execution_count": 9,
     "metadata": {},
     "output_type": "execute_result"
    }
   ],
   "source": [
    "list_of_random_things[1:2]"
   ]
  },
  {
   "cell_type": "code",
   "execution_count": 10,
   "id": "fb70b4e5",
   "metadata": {},
   "outputs": [
    {
     "data": {
      "text/plain": [
       "[3.4, 'a string']"
      ]
     },
     "execution_count": 10,
     "metadata": {},
     "output_type": "execute_result"
    }
   ],
   "source": [
    "list_of_random_things[1:3]"
   ]
  },
  {
   "cell_type": "code",
   "execution_count": 11,
   "id": "2d4c2130",
   "metadata": {},
   "outputs": [
    {
     "data": {
      "text/plain": [
       "[3.4, 'a string', True]"
      ]
     },
     "execution_count": 11,
     "metadata": {},
     "output_type": "execute_result"
    }
   ],
   "source": [
    "list_of_random_things[1:]"
   ]
  },
  {
   "cell_type": "code",
   "execution_count": 12,
   "id": "9fbab7e5",
   "metadata": {},
   "outputs": [],
   "source": [
    "sentence1 = \"I wish to register a complaint.\""
   ]
  },
  {
   "cell_type": "code",
   "execution_count": 13,
   "id": "17004fde",
   "metadata": {},
   "outputs": [],
   "source": [
    "sentence2 = [\"I\", \"wish\", \"to\", \"register\", \"a\", \"complaint\", \".\"]\n"
   ]
  },
  {
   "cell_type": "code",
   "execution_count": 14,
   "id": "2d41069e",
   "metadata": {},
   "outputs": [
    {
     "ename": "NameError",
     "evalue": "name 'sevtence2' is not defined",
     "output_type": "error",
     "traceback": [
      "\u001b[1;31m---------------------------------------------------------------------------\u001b[0m",
      "\u001b[1;31mNameError\u001b[0m                                 Traceback (most recent call last)",
      "\u001b[1;32m<ipython-input-14-734cd34d7c39>\u001b[0m in \u001b[0;36m<module>\u001b[1;34m\u001b[0m\n\u001b[1;32m----> 1\u001b[1;33m \u001b[0msevtence2\u001b[0m\u001b[1;33m[\u001b[0m\u001b[1;36m6\u001b[0m\u001b[1;33m]\u001b[0m\u001b[1;33m=\u001b[0m\u001b[1;34m\"!\"\u001b[0m\u001b[1;33m\u001b[0m\u001b[1;33m\u001b[0m\u001b[0m\n\u001b[0m",
      "\u001b[1;31mNameError\u001b[0m: name 'sevtence2' is not defined"
     ]
    }
   ],
   "source": [
    "sevtence2[6]=\"!\""
   ]
  },
  {
   "cell_type": "code",
   "execution_count": 15,
   "id": "bd543c6f",
   "metadata": {},
   "outputs": [],
   "source": [
    "sentence2[6]='!'"
   ]
  },
  {
   "cell_type": "code",
   "execution_count": 16,
   "id": "9f5529bf",
   "metadata": {},
   "outputs": [
    {
     "ename": "NameError",
     "evalue": "name 'sentence' is not defined",
     "output_type": "error",
     "traceback": [
      "\u001b[1;31m---------------------------------------------------------------------------\u001b[0m",
      "\u001b[1;31mNameError\u001b[0m                                 Traceback (most recent call last)",
      "\u001b[1;32m<ipython-input-16-8df92a8ca466>\u001b[0m in \u001b[0;36m<module>\u001b[1;34m\u001b[0m\n\u001b[1;32m----> 1\u001b[1;33m \u001b[0msentence\u001b[0m\u001b[1;33m[\u001b[0m\u001b[1;36m6\u001b[0m\u001b[1;33m]\u001b[0m\u001b[1;33m=\u001b[0m\u001b[1;34m\"!\"\u001b[0m\u001b[1;33m\u001b[0m\u001b[1;33m\u001b[0m\u001b[0m\n\u001b[0m",
      "\u001b[1;31mNameError\u001b[0m: name 'sentence' is not defined"
     ]
    }
   ],
   "source": [
    "sentence[6]=\"!\""
   ]
  },
  {
   "cell_type": "code",
   "execution_count": 17,
   "id": "fd2a9562",
   "metadata": {},
   "outputs": [],
   "source": [
    "sentence2[6]=\"!\""
   ]
  },
  {
   "cell_type": "code",
   "execution_count": 18,
   "id": "3f20e154",
   "metadata": {},
   "outputs": [
    {
     "ename": "NameError",
     "evalue": "name 'days_in_month' is not defined",
     "output_type": "error",
     "traceback": [
      "\u001b[1;31m---------------------------------------------------------------------------\u001b[0m",
      "\u001b[1;31mNameError\u001b[0m                                 Traceback (most recent call last)",
      "\u001b[1;32m<ipython-input-18-10e0da3237e9>\u001b[0m in \u001b[0;36m<module>\u001b[1;34m\u001b[0m\n\u001b[1;32m----> 1\u001b[1;33m \u001b[0mnum_days\u001b[0m \u001b[1;33m=\u001b[0m \u001b[0mdays_in_month\u001b[0m\u001b[1;33m[\u001b[0m\u001b[0mmonth\u001b[0m \u001b[1;33m-\u001b[0m \u001b[1;36m1\u001b[0m\u001b[1;33m]\u001b[0m\u001b[1;33m\u001b[0m\u001b[1;33m\u001b[0m\u001b[0m\n\u001b[0m",
      "\u001b[1;31mNameError\u001b[0m: name 'days_in_month' is not defined"
     ]
    }
   ],
   "source": [
    "num_days = days_in_month[month - 1]"
   ]
  },
  {
   "cell_type": "code",
   "execution_count": 19,
   "id": "829d541e",
   "metadata": {},
   "outputs": [],
   "source": [
    "new_str = \"\\n\".join([\"fore\", \"aft\", \"starboard\", \"port\"])"
   ]
  },
  {
   "cell_type": "code",
   "execution_count": 20,
   "id": "4cf65ac5",
   "metadata": {},
   "outputs": [
    {
     "name": "stdout",
     "output_type": "stream",
     "text": [
      "fore\n",
      "aft\n",
      "starboard\n",
      "port\n"
     ]
    }
   ],
   "source": [
    "print(new_str)"
   ]
  },
  {
   "cell_type": "code",
   "execution_count": 21,
   "id": "af943c72",
   "metadata": {},
   "outputs": [],
   "source": [
    "name = \"-\".join([\"García\", \"O'Kelly\", \"Davis\"])"
   ]
  },
  {
   "cell_type": "code",
   "execution_count": 22,
   "id": "108f7b7e",
   "metadata": {},
   "outputs": [
    {
     "name": "stdout",
     "output_type": "stream",
     "text": [
      "García-O'Kelly-Davis\n"
     ]
    }
   ],
   "source": [
    "print(name)"
   ]
  },
  {
   "cell_type": "code",
   "execution_count": 23,
   "id": "a549d2b0",
   "metadata": {},
   "outputs": [],
   "source": [
    "letters = ['a', 'b', 'c', 'd']"
   ]
  },
  {
   "cell_type": "code",
   "execution_count": 24,
   "id": "a8745d07",
   "metadata": {},
   "outputs": [
    {
     "ename": "AttributeError",
     "evalue": "'list' object has no attribute 'join'",
     "output_type": "error",
     "traceback": [
      "\u001b[1;31m---------------------------------------------------------------------------\u001b[0m",
      "\u001b[1;31mAttributeError\u001b[0m                            Traceback (most recent call last)",
      "\u001b[1;32m<ipython-input-24-e56b7e643838>\u001b[0m in \u001b[0;36m<module>\u001b[1;34m\u001b[0m\n\u001b[1;32m----> 1\u001b[1;33m \u001b[0mprint\u001b[0m\u001b[1;33m(\u001b[0m\u001b[0mletters\u001b[0m\u001b[1;33m.\u001b[0m\u001b[0mjoin\u001b[0m\u001b[1;33m)\u001b[0m\u001b[1;33m\u001b[0m\u001b[1;33m\u001b[0m\u001b[0m\n\u001b[0m",
      "\u001b[1;31mAttributeError\u001b[0m: 'list' object has no attribute 'join'"
     ]
    }
   ],
   "source": [
    "print(letters.join)"
   ]
  },
  {
   "cell_type": "code",
   "execution_count": 25,
   "id": "8c8cd88e",
   "metadata": {},
   "outputs": [],
   "source": [
    "letters =\".\".join(['a', 'b', 'c', 'd'])"
   ]
  },
  {
   "cell_type": "code",
   "execution_count": 26,
   "id": "069dd70e",
   "metadata": {},
   "outputs": [
    {
     "name": "stdout",
     "output_type": "stream",
     "text": [
      "a.b.c.d\n"
     ]
    }
   ],
   "source": [
    "print(letters)"
   ]
  },
  {
   "cell_type": "code",
   "execution_count": 27,
   "id": "18c66361",
   "metadata": {},
   "outputs": [],
   "source": [
    "numbers = [99, 100, 1, 3, 4, 99, 100]"
   ]
  },
  {
   "cell_type": "code",
   "execution_count": 28,
   "id": "ed2a7764",
   "metadata": {},
   "outputs": [],
   "source": [
    "unique_nums = set(numbers)"
   ]
  },
  {
   "cell_type": "code",
   "execution_count": 29,
   "id": "d3a9291f",
   "metadata": {},
   "outputs": [
    {
     "name": "stdout",
     "output_type": "stream",
     "text": [
      "{1, 3, 99, 100, 4}\n"
     ]
    }
   ],
   "source": [
    "print(unique_nums)"
   ]
  },
  {
   "cell_type": "code",
   "execution_count": 30,
   "id": "3f0362e6",
   "metadata": {},
   "outputs": [],
   "source": [
    "fruit = {\"apple\", \"banana\", \"orange\", \"grapefruit\"} "
   ]
  },
  {
   "cell_type": "code",
   "execution_count": 31,
   "id": "751d0ff0",
   "metadata": {},
   "outputs": [
    {
     "name": "stdout",
     "output_type": "stream",
     "text": [
      "False\n"
     ]
    }
   ],
   "source": [
    "print(\"watermelon\" in fruit)"
   ]
  },
  {
   "cell_type": "code",
   "execution_count": 32,
   "id": "ee480572",
   "metadata": {},
   "outputs": [],
   "source": [
    "fruit.add(\"watermelon\")"
   ]
  },
  {
   "cell_type": "code",
   "execution_count": 33,
   "id": "f8be798f",
   "metadata": {},
   "outputs": [
    {
     "name": "stdout",
     "output_type": "stream",
     "text": [
      "{'watermelon', 'grapefruit', 'apple', 'orange', 'banana'}\n"
     ]
    }
   ],
   "source": [
    "print(fruit)"
   ]
  },
  {
   "cell_type": "code",
   "execution_count": 34,
   "id": "a31d3bc3",
   "metadata": {},
   "outputs": [
    {
     "ename": "NameError",
     "evalue": "name 'pop' is not defined",
     "output_type": "error",
     "traceback": [
      "\u001b[1;31m---------------------------------------------------------------------------\u001b[0m",
      "\u001b[1;31mNameError\u001b[0m                                 Traceback (most recent call last)",
      "\u001b[1;32m<ipython-input-34-aa51696e8c14>\u001b[0m in \u001b[0;36m<module>\u001b[1;34m\u001b[0m\n\u001b[1;32m----> 1\u001b[1;33m \u001b[0mprint\u001b[0m\u001b[1;33m(\u001b[0m\u001b[0mfruit\u001b[0m\u001b[1;33m,\u001b[0m\u001b[0mpop\u001b[0m\u001b[1;33m(\u001b[0m\u001b[1;33m)\u001b[0m\u001b[1;33m)\u001b[0m\u001b[1;33m\u001b[0m\u001b[1;33m\u001b[0m\u001b[0m\n\u001b[0m",
      "\u001b[1;31mNameError\u001b[0m: name 'pop' is not defined"
     ]
    }
   ],
   "source": [
    "print(fruit,pop())"
   ]
  },
  {
   "cell_type": "code",
   "execution_count": 35,
   "id": "3045abf7",
   "metadata": {},
   "outputs": [
    {
     "name": "stdout",
     "output_type": "stream",
     "text": [
      "watermelon\n"
     ]
    }
   ],
   "source": [
    "print(fruit.pop())"
   ]
  },
  {
   "cell_type": "code",
   "execution_count": 36,
   "id": "c21c385d",
   "metadata": {},
   "outputs": [
    {
     "name": "stdout",
     "output_type": "stream",
     "text": [
      "grapefruit\n"
     ]
    }
   ],
   "source": [
    "print(fruit.pop())"
   ]
  },
  {
   "cell_type": "code",
   "execution_count": 37,
   "id": "dfd21716",
   "metadata": {},
   "outputs": [
    {
     "name": "stdout",
     "output_type": "stream",
     "text": [
      "{'apple', 'orange', 'banana'}\n"
     ]
    }
   ],
   "source": [
    "print(fruit)"
   ]
  },
  {
   "cell_type": "code",
   "execution_count": 38,
   "id": "1ce19b08",
   "metadata": {},
   "outputs": [],
   "source": [
    "set1 = set(range(1000))"
   ]
  },
  {
   "cell_type": "code",
   "execution_count": 39,
   "id": "5ae38730",
   "metadata": {},
   "outputs": [],
   "source": [
    "set2 = set(range(500, 1500))"
   ]
  },
  {
   "cell_type": "code",
   "execution_count": 40,
   "id": "a59f8265",
   "metadata": {},
   "outputs": [],
   "source": [
    "list1 = list(set1)"
   ]
  },
  {
   "cell_type": "code",
   "execution_count": 41,
   "id": "8b927856",
   "metadata": {},
   "outputs": [],
   "source": [
    "list2 = list(set2)"
   ]
  },
  {
   "cell_type": "code",
   "execution_count": 42,
   "id": "b2159c75",
   "metadata": {},
   "outputs": [
    {
     "ename": "NameError",
     "evalue": "name 'time' is not defined",
     "output_type": "error",
     "traceback": [
      "\u001b[1;31m---------------------------------------------------------------------------\u001b[0m",
      "\u001b[1;31mNameError\u001b[0m                                 Traceback (most recent call last)",
      "\u001b[1;32m<ipython-input-42-07bc64fb00d0>\u001b[0m in \u001b[0;36m<module>\u001b[1;34m\u001b[0m\n\u001b[1;32m----> 1\u001b[1;33m \u001b[0mstart_time\u001b[0m \u001b[1;33m=\u001b[0m \u001b[0mtime\u001b[0m\u001b[1;33m.\u001b[0m\u001b[0mtime\u001b[0m\u001b[1;33m(\u001b[0m\u001b[1;33m)\u001b[0m\u001b[1;33m\u001b[0m\u001b[1;33m\u001b[0m\u001b[0m\n\u001b[0m",
      "\u001b[1;31mNameError\u001b[0m: name 'time' is not defined"
     ]
    }
   ],
   "source": [
    "start_time = time.time()"
   ]
  },
  {
   "cell_type": "code",
   "execution_count": 43,
   "id": "b49057b1",
   "metadata": {},
   "outputs": [],
   "source": [
    "union_set = set1.union(set2)"
   ]
  },
  {
   "cell_type": "code",
   "execution_count": 44,
   "id": "fa850631",
   "metadata": {},
   "outputs": [
    {
     "ename": "NameError",
     "evalue": "name 'start_time' is not defined",
     "output_type": "error",
     "traceback": [
      "\u001b[1;31m---------------------------------------------------------------------------\u001b[0m",
      "\u001b[1;31mNameError\u001b[0m                                 Traceback (most recent call last)",
      "\u001b[1;32m<ipython-input-44-2d8b8c707b78>\u001b[0m in \u001b[0;36m<module>\u001b[1;34m\u001b[0m\n\u001b[1;32m----> 1\u001b[1;33m \u001b[0mstart_time\u001b[0m\u001b[1;33m=\u001b[0m\u001b[0mstart_time\u001b[0m\u001b[1;33m.\u001b[0m\u001b[0mtime\u001b[0m\u001b[1;33m(\u001b[0m\u001b[1;33m)\u001b[0m\u001b[1;33m\u001b[0m\u001b[1;33m\u001b[0m\u001b[0m\n\u001b[0m",
      "\u001b[1;31mNameError\u001b[0m: name 'start_time' is not defined"
     ]
    }
   ],
   "source": [
    "start_time=start_time.time()"
   ]
  },
  {
   "cell_type": "code",
   "execution_count": 45,
   "id": "695cfc86",
   "metadata": {},
   "outputs": [
    {
     "ename": "NameError",
     "evalue": "name 'time' is not defined",
     "output_type": "error",
     "traceback": [
      "\u001b[1;31m---------------------------------------------------------------------------\u001b[0m",
      "\u001b[1;31mNameError\u001b[0m                                 Traceback (most recent call last)",
      "\u001b[1;32m<ipython-input-45-4c977cdcf8c6>\u001b[0m in \u001b[0;36m<module>\u001b[1;34m\u001b[0m\n\u001b[1;32m----> 1\u001b[1;33m \u001b[0mprint\u001b[0m\u001b[1;33m(\u001b[0m\u001b[1;34m\"Set Union Time:\"\u001b[0m\u001b[1;33m,\u001b[0m \u001b[0mtime\u001b[0m\u001b[1;33m.\u001b[0m\u001b[0mtime\u001b[0m\u001b[1;33m(\u001b[0m\u001b[1;33m)\u001b[0m \u001b[1;33m-\u001b[0m \u001b[0mstart_time\u001b[0m\u001b[1;33m)\u001b[0m\u001b[1;33m\u001b[0m\u001b[1;33m\u001b[0m\u001b[0m\n\u001b[0m",
      "\u001b[1;31mNameError\u001b[0m: name 'time' is not defined"
     ]
    }
   ],
   "source": [
    "print(\"Set Union Time:\", time.time() - start_time)"
   ]
  },
  {
   "cell_type": "code",
   "execution_count": 46,
   "id": "e94c8fc7",
   "metadata": {},
   "outputs": [],
   "source": [
    "import time"
   ]
  },
  {
   "cell_type": "code",
   "execution_count": 47,
   "id": "2e74c2d2",
   "metadata": {},
   "outputs": [],
   "source": [
    "set1 = set(range(1000))"
   ]
  },
  {
   "cell_type": "code",
   "execution_count": 48,
   "id": "9b585577",
   "metadata": {},
   "outputs": [],
   "source": [
    "set2 = set(range(500, 1500))"
   ]
  },
  {
   "cell_type": "code",
   "execution_count": 49,
   "id": "d859be6d",
   "metadata": {},
   "outputs": [],
   "source": [
    "list1 = list(set1)"
   ]
  },
  {
   "cell_type": "code",
   "execution_count": 50,
   "id": "b62be300",
   "metadata": {},
   "outputs": [],
   "source": [
    "list2 = list(set2)"
   ]
  },
  {
   "cell_type": "code",
   "execution_count": 51,
   "id": "2610e454",
   "metadata": {},
   "outputs": [],
   "source": [
    "start_time = time.time()"
   ]
  },
  {
   "cell_type": "code",
   "execution_count": 52,
   "id": "31a74a86",
   "metadata": {},
   "outputs": [],
   "source": [
    "union_set = set1.union(set2)"
   ]
  },
  {
   "cell_type": "code",
   "execution_count": 53,
   "id": "30148e61",
   "metadata": {},
   "outputs": [
    {
     "name": "stdout",
     "output_type": "stream",
     "text": [
      "Set Union Time: 45.454752683639526\n"
     ]
    }
   ],
   "source": [
    "print(\"Set Union Time:\", time.time() - start_time)"
   ]
  },
  {
   "cell_type": "code",
   "execution_count": 54,
   "id": "497805c1",
   "metadata": {},
   "outputs": [],
   "source": [
    "start_time = time.time()"
   ]
  },
  {
   "cell_type": "code",
   "execution_count": 55,
   "id": "da66b69b",
   "metadata": {},
   "outputs": [],
   "source": [
    "union_list = list(set(list1 + list2))"
   ]
  },
  {
   "cell_type": "code",
   "execution_count": 56,
   "id": "2ddad1dc",
   "metadata": {},
   "outputs": [
    {
     "name": "stdout",
     "output_type": "stream",
     "text": [
      "List Union Time: 47.30561566352844\n"
     ]
    }
   ],
   "source": [
    "print(\"List Union Time:\", time.time() - start_time)"
   ]
  },
  {
   "cell_type": "code",
   "execution_count": 57,
   "id": "e409b43a",
   "metadata": {},
   "outputs": [],
   "source": [
    "start_time = time.time()"
   ]
  },
  {
   "cell_type": "code",
   "execution_count": 58,
   "id": "de7e9b7d",
   "metadata": {},
   "outputs": [],
   "source": [
    "intersection_set = set1.intersection(set2)"
   ]
  },
  {
   "cell_type": "code",
   "execution_count": 59,
   "id": "4f1cbb65",
   "metadata": {},
   "outputs": [
    {
     "name": "stdout",
     "output_type": "stream",
     "text": [
      "Set Intersection Time: 44.265467405319214\n"
     ]
    }
   ],
   "source": [
    "print(\"Set Intersection Time:\", time.time() - start_time)"
   ]
  },
  {
   "cell_type": "code",
   "execution_count": 60,
   "id": "745b7652",
   "metadata": {},
   "outputs": [],
   "source": [
    "start_time = time.time()"
   ]
  },
  {
   "cell_type": "code",
   "execution_count": 61,
   "id": "735f6141",
   "metadata": {},
   "outputs": [],
   "source": [
    "intersection_list = [x for x in list1 if x in set2]"
   ]
  },
  {
   "cell_type": "code",
   "execution_count": 62,
   "id": "2f84cccd",
   "metadata": {},
   "outputs": [
    {
     "ename": "SyntaxError",
     "evalue": "unexpected EOF while parsing (<ipython-input-62-60d2ddfd6ba8>, line 1)",
     "output_type": "error",
     "traceback": [
      "\u001b[1;36m  File \u001b[1;32m\"<ipython-input-62-60d2ddfd6ba8>\"\u001b[1;36m, line \u001b[1;32m1\u001b[0m\n\u001b[1;33m    print(\"List Intersection Time:\", time.time() - start_time\u001b[0m\n\u001b[1;37m                                                             ^\u001b[0m\n\u001b[1;31mSyntaxError\u001b[0m\u001b[1;31m:\u001b[0m unexpected EOF while parsing\n"
     ]
    }
   ],
   "source": [
    "print(\"List Intersection Time:\", time.time() - start_time"
   ]
  },
  {
   "cell_type": "code",
   "execution_count": 63,
   "id": "37163ed9",
   "metadata": {},
   "outputs": [
    {
     "name": "stdout",
     "output_type": "stream",
     "text": [
      "List Intersection Time: 77.53555583953857\n"
     ]
    }
   ],
   "source": [
    "print(\"List Intersection Time:\", time.time() - start_time)"
   ]
  }
 ],
 "metadata": {
  "kernelspec": {
   "display_name": "Python 3",
   "language": "python",
   "name": "python3"
  },
  "language_info": {
   "codemirror_mode": {
    "name": "ipython",
    "version": 3
   },
   "file_extension": ".py",
   "mimetype": "text/x-python",
   "name": "python",
   "nbconvert_exporter": "python",
   "pygments_lexer": "ipython3",
   "version": "3.8.8"
  }
 },
 "nbformat": 4,
 "nbformat_minor": 5
}
